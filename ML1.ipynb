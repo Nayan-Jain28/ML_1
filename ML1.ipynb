{
  "cells": [
    {
      "cell_type": "code",
      "source": [
        "import numpy as np\n",
        "import pandas as pd\n",
        "from sklearn.preprocessing import MinMaxScaler\n",
        "data = pd.read_csv('WineQT.csv')\n",
        "data.head()\n",
        "data.describe()\n",
        "data.info()\n",
        "count_greater_than_6 = (data['quality'] > 6).sum()\n",
        "print(count_greater_than_6)\n",
        "data['quality'] = data['quality'].apply(lambda x: 0 if x <= 6 else 1)\n",
        "data\n",
        "count_greater_than_0 = (data['quality'] > 0).sum()\n",
        "print(count_greater_than_0)\n",
        "# MinMaxScaler Instantiation\n",
        "scaler = MinMaxScaler()\n",
        "# Normalising the data\n",
        "scaled_data = scaler.fit_transform(data.drop('quality', axis=1))\n",
        "# Normalized data\n",
        "scaled_data"
      ],
      "metadata": {
        "id": "m4qcpvcUrnrw",
        "outputId": "90f55f4c-b0e5-4dcb-9d6c-160a5d66ce35",
        "colab": {
          "base_uri": "https://localhost:8080/"
        }
      },
      "execution_count": 8,
      "outputs": [
        {
          "output_type": "stream",
          "name": "stdout",
          "text": [
            "<class 'pandas.core.frame.DataFrame'>\n",
            "RangeIndex: 1143 entries, 0 to 1142\n",
            "Data columns (total 13 columns):\n",
            " #   Column                Non-Null Count  Dtype  \n",
            "---  ------                --------------  -----  \n",
            " 0   fixed acidity         1143 non-null   float64\n",
            " 1   volatile acidity      1143 non-null   float64\n",
            " 2   citric acid           1143 non-null   float64\n",
            " 3   residual sugar        1143 non-null   float64\n",
            " 4   chlorides             1143 non-null   float64\n",
            " 5   free sulfur dioxide   1143 non-null   float64\n",
            " 6   total sulfur dioxide  1143 non-null   float64\n",
            " 7   density               1143 non-null   float64\n",
            " 8   pH                    1143 non-null   float64\n",
            " 9   sulphates             1143 non-null   float64\n",
            " 10  alcohol               1143 non-null   float64\n",
            " 11  quality               1143 non-null   int64  \n",
            " 12  Id                    1143 non-null   int64  \n",
            "dtypes: float64(11), int64(2)\n",
            "memory usage: 116.2 KB\n",
            "159\n",
            "159\n"
          ]
        },
        {
          "output_type": "execute_result",
          "data": {
            "text/plain": [
              "array([[2.47787611e-01, 3.97260274e-01, 0.00000000e+00, ...,\n",
              "        1.37724551e-01, 1.53846154e-01, 0.00000000e+00],\n",
              "       [2.83185841e-01, 5.20547945e-01, 0.00000000e+00, ...,\n",
              "        2.09580838e-01, 2.15384615e-01, 6.26174076e-04],\n",
              "       [2.83185841e-01, 4.38356164e-01, 4.00000000e-02, ...,\n",
              "        1.91616766e-01, 2.15384615e-01, 1.25234815e-03],\n",
              "       ...,\n",
              "       [1.41592920e-01, 3.28767123e-01, 8.00000000e-02, ...,\n",
              "        1.49700599e-01, 3.23076923e-01, 9.98121478e-01],\n",
              "       [1.15044248e-01, 2.94520548e-01, 1.00000000e-01, ...,\n",
              "        2.57485030e-01, 4.30769231e-01, 9.98747652e-01],\n",
              "       [1.15044248e-01, 3.59589041e-01, 1.20000000e-01, ...,\n",
              "        2.27544910e-01, 2.76923077e-01, 1.00000000e+00]])"
            ]
          },
          "metadata": {},
          "execution_count": 8
        }
      ]
    }
  ],
  "metadata": {
    "colab": {
      "name": "Welcome To Colab",
      "provenance": []
    },
    "kernelspec": {
      "display_name": "Python 3",
      "name": "python3"
    }
  },
  "nbformat": 4,
  "nbformat_minor": 0
}